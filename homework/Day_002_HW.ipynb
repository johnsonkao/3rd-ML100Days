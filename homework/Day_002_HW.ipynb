{
 "cells": [
  {
   "cell_type": "markdown",
   "metadata": {},
   "source": [
    "## 1. 機器學習、深度學習與人工智慧差別是甚麼?\n",
    "人工智慧是未來科技發展的趨勢。人工智慧是科幻的恣意想像。人工智慧早就存在於我們的日常生活。這些說法都對，端視你指的是人工智慧的哪個特點。  \n",
    "  \n",
    "舉例來說，Google DeepMind 的 AlphaGo 項目今年初擊敗韓國圍棋棋王李世乭時，媒體使用「人工智慧」、「機器學習」與「深度學習」這幾個名詞來描述 DeepMind 的致勝方式，這三者雖皆是 AlphaGo 擊敗李世乭的原因，卻並非指同一件事情，其中各有巧妙不同。  \n",
    "  \n",
    "用同心圓最能簡單說明三者間的關係，最早出現的人工智慧是最大那個圓，接著是後來出現的機器學習，最後是推動目前人工智慧領域出現爆炸性發展的深度學習，則是落在最內一圈。  \n",
    "  \n",
    " ![AI 同心圓](https://blogs.nvidia.com/wp-content/uploads/2016/07/Deep_Learning_Icons_R5_PNG.jpg.png)\n",
    " \n",
    " ## 2.機器學習可以發光發熱的領域並闡述原因?\n",
    " 旅館的魔鏡機器人, 利用語音輸入控制房間的電器, 以及訂餐、叫車的服務, 機器人的對話可利用NLP技術來達成, 而NLP可利用Deep Learning來訓練。 \n"
   ]
  },
  {
   "cell_type": "code",
   "execution_count": null,
   "metadata": {},
   "outputs": [],
   "source": []
  }
 ],
 "metadata": {
  "kernelspec": {
   "display_name": "Python 3",
   "language": "python",
   "name": "python3"
  },
  "language_info": {
   "codemirror_mode": {
    "name": "ipython",
    "version": 3
   },
   "file_extension": ".py",
   "mimetype": "text/x-python",
   "name": "python",
   "nbconvert_exporter": "python",
   "pygments_lexer": "ipython3",
   "version": "3.7.3"
  }
 },
 "nbformat": 4,
 "nbformat_minor": 2
}
